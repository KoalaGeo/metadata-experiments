{
 "cells": [
  {
   "cell_type": "markdown",
   "metadata": {
    "id": "jIt17QBUiGbk"
   },
   "source": [
    "\n",
    "# Jupyter Notebook for Gemini Metadata Validation using pyschematron\n",
    "\n",
    "This notebook demonstrates how to use the `pyschematron` Python library to validate XML metadata documents against a Schematron schema, specifically for a simplified Gemini/ISO 19139 metadata example."
   ]
  },
  {
   "cell_type": "code",
   "execution_count": 1,
   "metadata": {
    "colab": {
     "base_uri": "https://localhost:8080/"
    },
    "id": "bFcUEAaXlzDa",
    "outputId": "1dcb46b0-85b3-414e-baeb-8cc7f6854464"
   },
   "outputs": [
    {
     "name": "stdout",
     "output_type": "stream",
     "text": [
      "Python Version: 3.12.7 | packaged by Anaconda, Inc. | (main, Oct  4 2024, 13:17:27) [MSC v.1929 64 bit (AMD64)]\n",
      "\n"
     ]
    }
   ],
   "source": [
    "import sys\n",
    "\n",
    "# Print the current Python version\n",
    "print(f\"Python Version: {sys.version}\\n\")"
   ]
  },
  {
   "cell_type": "markdown",
   "metadata": {
    "id": "CpRLFyUJjlyO"
   },
   "source": [
    "## Setup: Install `pyschematron`"
   ]
  },
  {
   "cell_type": "code",
   "execution_count": 2,
   "metadata": {
    "colab": {
     "base_uri": "https://localhost:8080/"
    },
    "id": "rxuVSSzLiVAU",
    "outputId": "91566247-ef13-46bd-8569-d58b3792c2c1"
   },
   "outputs": [
    {
     "name": "stdout",
     "output_type": "stream",
     "text": [
      "Defaulting to user installation because normal site-packages is not writeable\n",
      "Requirement already satisfied: pyschematron==1.1.8 in c:\\users\\edlew\\appdata\\roaming\\python\\python312\\site-packages (1.1.8)\n",
      "Requirement already satisfied: lxml in c:\\users\\edlew\\appdata\\roaming\\python\\python312\\site-packages (5.3.2)\n",
      "Requirement already satisfied: requests in c:\\programdata\\anaconda3\\lib\\site-packages (2.32.3)\n",
      "Requirement already satisfied: xmlschema~=3.4.3 in c:\\users\\edlew\\appdata\\roaming\\python\\python312\\site-packages (from pyschematron==1.1.8) (3.4.5)\n",
      "Requirement already satisfied: elementpath~=4.7.0 in c:\\users\\edlew\\appdata\\roaming\\python\\python312\\site-packages (from pyschematron==1.1.8) (4.7.0)\n",
      "Requirement already satisfied: typer>=0.15.1 in c:\\users\\edlew\\appdata\\roaming\\python\\python312\\site-packages (from typer[all]>=0.15.1->pyschematron==1.1.8) (0.16.0)\n",
      "Requirement already satisfied: appdirs~=1.4.4 in c:\\programdata\\anaconda3\\lib\\site-packages (from pyschematron==1.1.8) (1.4.4)\n",
      "Requirement already satisfied: Jinja2~=3.1.5 in c:\\users\\edlew\\appdata\\roaming\\python\\python312\\site-packages (from pyschematron==1.1.8) (3.1.6)\n",
      "Requirement already satisfied: ruyaml~=0.91.0 in c:\\users\\edlew\\appdata\\roaming\\python\\python312\\site-packages (from pyschematron==1.1.8) (0.91.0)\n",
      "Requirement already satisfied: frozendict~=2.4.6 in c:\\users\\edlew\\appdata\\roaming\\python\\python312\\site-packages (from pyschematron==1.1.8) (2.4.6)\n",
      "Requirement already satisfied: charset-normalizer<4,>=2 in c:\\programdata\\anaconda3\\lib\\site-packages (from requests) (3.3.2)\n",
      "Requirement already satisfied: idna<4,>=2.5 in c:\\programdata\\anaconda3\\lib\\site-packages (from requests) (3.7)\n",
      "Requirement already satisfied: urllib3<3,>=1.21.1 in c:\\programdata\\anaconda3\\lib\\site-packages (from requests) (2.2.3)\n",
      "Requirement already satisfied: certifi>=2017.4.17 in c:\\programdata\\anaconda3\\lib\\site-packages (from requests) (2024.8.30)\n",
      "Requirement already satisfied: MarkupSafe>=2.0 in c:\\programdata\\anaconda3\\lib\\site-packages (from Jinja2~=3.1.5->pyschematron==1.1.8) (2.1.3)\n",
      "Requirement already satisfied: distro>=1.3.0 in c:\\programdata\\anaconda3\\lib\\site-packages (from ruyaml~=0.91.0->pyschematron==1.1.8) (1.9.0)\n",
      "Requirement already satisfied: setuptools>=39.0 in c:\\programdata\\anaconda3\\lib\\site-packages (from ruyaml~=0.91.0->pyschematron==1.1.8) (75.1.0)\n",
      "Requirement already satisfied: click>=8.0.0 in c:\\programdata\\anaconda3\\lib\\site-packages (from typer>=0.15.1->typer[all]>=0.15.1->pyschematron==1.1.8) (8.1.7)\n",
      "Requirement already satisfied: typing-extensions>=3.7.4.3 in c:\\programdata\\anaconda3\\lib\\site-packages (from typer>=0.15.1->typer[all]>=0.15.1->pyschematron==1.1.8) (4.11.0)\n",
      "Requirement already satisfied: shellingham>=1.3.0 in c:\\users\\edlew\\appdata\\roaming\\python\\python312\\site-packages (from typer>=0.15.1->typer[all]>=0.15.1->pyschematron==1.1.8) (1.5.4)\n",
      "Requirement already satisfied: rich>=10.11.0 in c:\\programdata\\anaconda3\\lib\\site-packages (from typer>=0.15.1->typer[all]>=0.15.1->pyschematron==1.1.8) (13.7.1)\n",
      "Requirement already satisfied: colorama in c:\\programdata\\anaconda3\\lib\\site-packages (from click>=8.0.0->typer>=0.15.1->typer[all]>=0.15.1->pyschematron==1.1.8) (0.4.6)\n",
      "Requirement already satisfied: markdown-it-py>=2.2.0 in c:\\programdata\\anaconda3\\lib\\site-packages (from rich>=10.11.0->typer>=0.15.1->typer[all]>=0.15.1->pyschematron==1.1.8) (2.2.0)\n",
      "Requirement already satisfied: pygments<3.0.0,>=2.13.0 in c:\\programdata\\anaconda3\\lib\\site-packages (from rich>=10.11.0->typer>=0.15.1->typer[all]>=0.15.1->pyschematron==1.1.8) (2.15.1)\n",
      "Requirement already satisfied: mdurl~=0.1 in c:\\programdata\\anaconda3\\lib\\site-packages (from markdown-it-py>=2.2.0->rich>=10.11.0->typer>=0.15.1->typer[all]>=0.15.1->pyschematron==1.1.8) (0.1.0)\n",
      "pyschematron, lxml, and requests installed.\n"
     ]
    },
    {
     "name": "stderr",
     "output_type": "stream",
     "text": [
      "WARNING: typer 0.16.0 does not provide the extra 'all'\n"
     ]
    }
   ],
   "source": [
    "!pip install pyschematron==1.1.8 lxml requests\n",
    "\n",
    "print(\"pyschematron, lxml, and requests installed.\")\n"
   ]
  },
  {
   "cell_type": "markdown",
   "metadata": {
    "id": "fAxkscVViRSD"
   },
   "source": [
    "\n",
    "## Prepare Files: Fetch Gemini Metadata XML and Schematron\n",
    "\n",
    "We will download the actual Gemini metadata XML and the GEMINI 2.3 Schematron schema from the provided URLs."
   ]
  },
  {
   "cell_type": "code",
   "execution_count": 5,
   "metadata": {
    "colab": {
     "base_uri": "https://localhost:8080/"
    },
    "id": "xWEirl3djJcH",
    "outputId": "9ab25a81-aa75-4d12-dfa2-a0502c08bdf4"
   },
   "outputs": [
    {
     "name": "stdout",
     "output_type": "stream",
     "text": [
      "Downloading bgs_gemini_metadata.xml from https://metadata.bgs.ac.uk/geonetwork/srv/api/records/9df8df52-d788-37a8-e044-0003ba9b0d98/formatters/xml...\n",
      "Successfully downloaded 'bgs_gemini_metadata.xml'.\n",
      "First 500 characters of 'bgs_gemini_metadata.xml':\n",
      "<?xml version=\"1.0\" encoding=\"UTF-8\"?>\n",
      "<gmd:MD_Metadata xmlns:gmd=\"http://www.isotc211.org/2005/gmd\" xmlns:gco=\"http://www.isotc211.org/2005/gco\" xmlns:gml=\"http://www.opengis.net/gml/3.2\" xmlns:gmx=\"http://www.isotc211.org/2005/gmx\" xmlns:gsr=\"http://www.isotc211.org/2005/gsr\" xmlns:gss=\"http://www.isotc211.org/2005/gss\" xmlns:gts=\"http://www.isotc211.org/2005/gts\" xmlns:srv=\"http://www.isotc211.org/2005/srv\" xmlns:xlink=\"http://www.w3.org/1999/xlink\" xmlns:xsi=\"http://www.w3.org/2001/XMLSchema...\n",
      "Downloading GEMINI_2.3_Schematron_Schema-v1.0.sch from https://raw.githubusercontent.com/agiorguk/gemini-schematron/main/GEMINI_2.3_Schematron_Schema-v1.0.sch...\n",
      "Successfully downloaded 'GEMINI_2.3_Schematron_Schema-v1.0.sch'.\n",
      "First 500 characters of 'GEMINI_2.3_Schematron_Schema-v1.0.sch':\n",
      "<?xml version=\"1.0\" encoding=\"utf-8\"?>\n",
      "<!-- ========================================================================================== -->\n",
      "<!-- Schematron Schema for the UK GEMINI Standard Version 2.3                             -->\n",
      "<!-- ========================================================================================== -->\n",
      "<!-- \n",
      "     James Passmore                                \n",
      "     British Geological Survey                                                \n",
      "     2017-09-08\n",
      "     \n",
      "     Thi...\n"
     ]
    }
   ],
   "source": [
    "import os\n",
    "import requests\n",
    "\n",
    "# Define URLs for the metadata and schematron files\n",
    "metadata_url = \"https://metadata.bgs.ac.uk/geonetwork/srv/api/records/9df8df52-d788-37a8-e044-0003ba9b0d98/formatters/xml\"\n",
    "schematron_url = \"https://raw.githubusercontent.com/agiorguk/gemini-schematron/main/GEMINI_2.3_Schematron_Schema-v1.0.sch\"\n",
    "\n",
    "# Define file paths for saving\n",
    "xml_file_path = \"bgs_gemini_metadata.xml\"\n",
    "schematron_file_path = \"GEMINI_2.3_Schematron_Schema-v1.0.sch\"\n",
    "\n",
    "# Function to download content\n",
    "def download_file(url, filename):\n",
    "    print(f\"Downloading {filename} from {url}...\")\n",
    "    try:\n",
    "        response = requests.get(url, stream=True)\n",
    "        response.raise_for_status()  # Raise an HTTPError for bad responses (4xx or 5xx)\n",
    "        with open(filename, 'wb') as f:\n",
    "            for chunk in response.iter_content(chunk_size=8192):\n",
    "                f.write(chunk)\n",
    "        print(f\"Successfully downloaded '{filename}'.\")\n",
    "    except requests.exceptions.RequestException as e:\n",
    "        print(f\"Error downloading {filename}: {e}\")\n",
    "        raise\n",
    "\n",
    "# Download the metadata XML\n",
    "try:\n",
    "    download_file(metadata_url, xml_file_path)\n",
    "    # Read content to verify\n",
    "    with open(xml_file_path, \"r\", encoding=\"utf-8\") as f:\n",
    "        xml_content = f.read()\n",
    "    print(f\"First 500 characters of '{xml_file_path}':\\n{xml_content[:500]}...\")\n",
    "\n",
    "    # Download the Schematron\n",
    "    download_file(schematron_url, schematron_file_path)\n",
    "    # Read content to verify\n",
    "    with open(schematron_file_path, \"r\", encoding=\"utf-8\") as f:\n",
    "        schematron_content = f.read()\n",
    "    print(f\"First 500 characters of '{schematron_file_path}':\\n{schematron_content[:500]}...\")\n",
    "\n",
    "except Exception as e:\n",
    "    print(f\"Failed to prepare files. Please check URLs and network connection: {e}\")\n"
   ]
  },
  {
   "cell_type": "markdown",
   "metadata": {
    "id": "-TAJ3i-RjbLK"
   },
   "source": [
    "## Perform Validation\n",
    "\n",
    "Now, we'll use `pyschematron` to validate our downloaded XML file against the Schematron schema.\n"
   ]
  },
  {
   "cell_type": "code",
   "execution_count": 9,
   "metadata": {
    "colab": {
     "base_uri": "https://localhost:8080/",
     "height": 394
    },
    "id": "VysNzt9Hjuu6",
    "outputId": "514c4478-ca6e-4136-e2fd-2b284fb10ad3"
   },
   "outputs": [
    {
     "name": "stdout",
     "output_type": "stream",
     "text": [
      "Validating 'bgs_gemini_metadata.xml' against 'GEMINI_2.3_Schematron_Schema-v1.0.sch'...\n",
      "\n",
      "Validation Result: VALID\n",
      "\n",
      "--- Full Schematron Validation Report (SVRL) ---\n",
      "<svrl:schematron-output xmlns:svrl=\"http://purl.oclc.org/dsdl/svrl\" xmlns:sch=\"http://purl.oclc.org/dsdl/schematron\" xmlns:xs=\"http://www.w3.org/2001/XMLSchema\" schemaVersion=\"1.2\">\n",
      "  <svrl:metadata xmlns:dct=\"http://purl.org/dc/terms/\" xmlns:skos=\"http://www.w3.org/2004/02/skos/core#\" xmlns:rdf=\"http://www.w3.org/1999/02/22-rdf-syntax-ns#\" xmlns:pysch=\"https://github.com/robbert-harms/pyschematron\">\n",
      "    <dct:creator>\n",
      "      <dct:agent>\n",
      "        <skos:prefLabel>PySchematron 1.1.8</skos:prefLabel>\n",
      "      </dct:agent>\n",
      "    </dct:creator>\n",
      "    <dct:created>2025-07-02T11:30:34.627323+01:00</dct:created>\n",
      "    <dct:source>\n",
      "      <rdf:Description>\n",
      "        <dct:creator>\n",
      "          <dct:Agent>\n",
      "            <skos:prefLabel>PySchematron 1.1.8</skos:prefLabel>\n",
      "          </dct:Agent>\n",
      "        </dct:creator>\n",
      "        <dct:created>2025-07-02T11:30:34.627323+01:00</dct:created>\n",
      "      </rdf:Description>\n",
      "    </dct:source>\n",
      "  </svrl:metadata>\n",
      "</svrl:schematron-output>\n",
      "\n",
      "------------------------------------------\n",
      "\n",
      "No failed assertions found. The document passed all 'assert' rules.\n",
      "\n",
      "No successful reports found.\n"
     ]
    }
   ],
   "source": [
    "from pyschematron import validate_document\n",
    "from lxml import etree # Used for pretty printing SVRL and navigating XML\n",
    "\n",
    "# Perform validation\n",
    "try:\n",
    "    print(f\"Validating '{xml_file_path}' against '{schematron_file_path}'...\")\n",
    "\n",
    "    # Parse both the XML metadata file and the Schematron schema file into lxml ElementTree objects\n",
    "    xml_tree = etree.parse(xml_file_path)\n",
    "    schematron_tree = etree.parse(schematron_file_path)\n",
    "    \n",
    "    # Pass the parsed lxml ElementTree objects to validate_document\n",
    "    validation_result = validate_document(xml_tree, schematron_tree)\n",
    "\n",
    "    # Check if the document is valid based on assertions\n",
    "    is_valid = validation_result.is_valid()\n",
    "    print(f\"\\nValidation Result: {'VALID' if is_valid else 'INVALID'}\")\n",
    "\n",
    "    # Get the SVRL report (Schematron Validation Report Language)\n",
    "    svrl_report = validation_result.get_svrl()\n",
    "\n",
    "    if svrl_report is not None:\n",
    "        print(\"\\n--- Full Schematron Validation Report (SVRL) ---\")\n",
    "        # Pretty print the SVRL XML for detailed inspection\n",
    "        print(etree.tostring(svrl_report, pretty_print=True, encoding='unicode'))\n",
    "        print(\"------------------------------------------\")\n",
    "    else:\n",
    "        print(\"No SVRL report generated (this might happen if the Schematron has no rules or if an error occurred).\")\n",
    "\n",
    "    # Extract and display failed assertions\n",
    "    failed_assertions = svrl_report.xpath(\"//svrl:failed-assert\", namespaces={\"svrl\": \"http://purl.oclc.org/dsdl/svrl\"})\n",
    "\n",
    "    if failed_assertions:\n",
    "        print(\"\\n--- Summary of Failed Assertions ---\")\n",
    "        for fa in failed_assertions:\n",
    "            test_expression = fa.get(\"test\")\n",
    "            location = fa.get(\"location\")\n",
    "            message_element = fa.xpath(\"svrl:text\", namespaces={\"svrl\": \"http://purl.oclc.org/dsdl/svrl\"})\n",
    "            message_text = message_element[0].text.strip() if message_element else \"No message provided in Schematron.\"\n",
    "            print(f\"  Location: {location}\")\n",
    "            print(f\"  Test: {test_expression}\")\n",
    "            print(f\"  Message: {message_text}\\n\")\n",
    "    else:\n",
    "        print(\"\\nNo failed assertions found. The document passed all 'assert' rules.\")\n",
    "\n",
    "    # Extract and display successful reports (optional, as reports are informational)\n",
    "    successful_reports = svrl_report.xpath(\"//svrl:successful-report\", namespaces={\"svrl\": \"http://purl.oclC.org/dsdl/svrl\"})\n",
    "    if successful_reports:\n",
    "        print(\"\\n--- Summary of Successful Reports ---\")\n",
    "        for sr in successful_reports:\n",
    "            test_expression = sr.get(\"test\")\n",
    "            location = sr.get(\"location\")\n",
    "            message_element = sr.xpath(\"svrl:text\", namespaces={\"svrl\": \"http://purl.oclC.org/dsdl/svrl\"})\n",
    "            message_text = message_element[0].text.strip() if message_element else \"No message provided in Schematron.\"\n",
    "            print(f\"  Location: {location}\")\n",
    "            print(f\"  Test: {test_expression}\")\n",
    "            print(f\"  Message: {message_text}\\n\")\n",
    "    else:\n",
    "        print(\"\\nNo successful reports found.\")\n",
    "\n",
    "except Exception as e:\n",
    "    print(f\"An error occurred during validation: {e}\")"
   ]
  },
  {
   "cell_type": "markdown",
   "metadata": {},
   "source": [
    "## 4. Interpreting the Validation Output\n",
    "\n",
    "The output provides several key pieces of information:\n",
    "\n",
    "`Validation Result: VALID/INVALID`: This indicates whether the document passed all `sch:assert` rules in the Schematron. If any `assert` fails, the document is considered `INVALID`.\n",
    "Full Schematron Validation Report (SVRL): This is an XML document that provides a detailed log of all validation events.\n",
    "     \n",
    "* `<svrl:failed-assert>`: These elements indicate a rule that the XML document *failed* to satisfy. This is what makes the document `INVALID`.\n",
    "* `@test`: The XPath expression that was evaluated.\n",
    "* `@location`: The XPath to the element in your XML document that caused the assertion to fail.\n",
    "* `<svrl:text>`: The human-readable message defined in your Schematron for this assertion.\n",
    "* `<svrl:successful-report>`: These elements indicate a rule where a `sch:report` condition was met. Reports are typically for warnings, suggestions, or informational messages, and do not cause the document to be `INVALID`.\n",
    "* Similar attributes (`@test`, `@location`) and `<svrl:text>` as `failed-assert`.\n",
    "\n",
    " The output will show the validation results for the real BGS metadata record against the GEMINI 2.3 Schematron. You can examine the \"Summary of Failed Assertions\" to see any non-conformities or the \"Summary of Successful Reports\" for informational messages.\n",
    "\n",
    " If the validation result is `INVALID`, the failed assertions will guide you on what needs to be corrected in the metadata record to make it conform to the GEMINI 2.3 standard."
   ]
  },
  {
   "cell_type": "code",
   "execution_count": null,
   "metadata": {},
   "outputs": [],
   "source": []
  }
 ],
 "metadata": {
  "accelerator": "TPU",
  "colab": {
   "gpuType": "V28",
   "provenance": [],
   "toc_visible": true
  },
  "kernelspec": {
   "display_name": "Python 3 (ipykernel)",
   "language": "python",
   "name": "python3"
  },
  "language_info": {
   "codemirror_mode": {
    "name": "ipython",
    "version": 3
   },
   "file_extension": ".py",
   "mimetype": "text/x-python",
   "name": "python",
   "nbconvert_exporter": "python",
   "pygments_lexer": "ipython3",
   "version": "3.12.7"
  }
 },
 "nbformat": 4,
 "nbformat_minor": 4
}
